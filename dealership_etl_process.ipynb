{
 "cells": [
  {
   "cell_type": "markdown",
   "id": "07ec2494-4275-4d0a-8ae1-b1f5762c48c3",
   "metadata": {},
   "source": [
    "## Import Important modules"
   ]
  },
  {
   "cell_type": "code",
   "execution_count": 1,
   "id": "fc4e67c4-5e99-4454-862f-0b4e41a16e55",
   "metadata": {},
   "outputs": [],
   "source": [
    "import glob\n",
    "import pandas as pd\n",
    "import xml.etree.ElementTree as ET\n",
    "from datetime import datetime"
   ]
  },
  {
   "cell_type": "markdown",
   "id": "d0227f00-e408-434c-8213-fdca09d99095",
   "metadata": {},
   "source": [
    "## Download Files"
   ]
  },
  {
   "cell_type": "code",
   "execution_count": 2,
   "id": "6257e3de-f73f-421b-b712-380939a9865d",
   "metadata": {},
   "outputs": [
    {
     "data": {
      "text/plain": [
       "('datasource.zip', <http.client.HTTPMessage at 0x281a5925b20>)"
      ]
     },
     "execution_count": 2,
     "metadata": {},
     "output_type": "execute_result"
    }
   ],
   "source": [
    "import urllib.request\n",
    "url = \"https://cf-courses-data.s3.us.cloud-object-storage.appdomain.cloud/IBMDeveloperSkillsNetwork-PY0221EN-SkillsNetwork/labs/module%206/Lab%20-%20Extract%20Transform%20Load/data/datasource.zip\"\n",
    "filename = \"datasource.zip\"\n",
    "urllib.request.urlretrieve(url, filename)"
   ]
  },
  {
   "cell_type": "markdown",
   "id": "ade537dc-626c-4da7-829d-35d2e73a536c",
   "metadata": {},
   "source": [
    "## Unzip Files"
   ]
  },
  {
   "cell_type": "code",
   "execution_count": 3,
   "id": "8b076724-5acf-4f8b-bbf6-870250ebefad",
   "metadata": {},
   "outputs": [],
   "source": [
    "import zipfile\n",
    "zip = zipfile.ZipFile(\"datasource.zip\")\n",
    "zip.extractall()"
   ]
  },
  {
   "cell_type": "markdown",
   "id": "09c38d89-efc8-4f4e-b93f-bb779f358fd1",
   "metadata": {},
   "source": [
    "## Set Paths"
   ]
  },
  {
   "cell_type": "code",
   "execution_count": 4,
   "id": "46bac3fe-fcbb-409d-b055-d0e777300729",
   "metadata": {},
   "outputs": [],
   "source": [
    "tempfile = \"dealership_temp.tmp\"\n",
    "logfile = \"dealership_logfile.txt\"\n",
    "targetfile = \"dealership_transformed_data.csv\""
   ]
  },
  {
   "cell_type": "markdown",
   "id": "1a09ab67-9dd2-447a-a923-1d0f6ad2b524",
   "metadata": {},
   "source": [
    "## Extract Process"
   ]
  },
  {
   "cell_type": "markdown",
   "id": "72c9031c-1656-4ad5-9bc0-ff83544f4e41",
   "metadata": {},
   "source": [
    "#### CSV Extract Function"
   ]
  },
  {
   "cell_type": "code",
   "execution_count": 5,
   "id": "90839b40-c595-4baa-9f4e-158938ebd201",
   "metadata": {},
   "outputs": [],
   "source": [
    "def extract_from_csv(file_to_process):\n",
    "    dataframe = pd.read_csv(file_to_process)\n",
    "    return dataframe"
   ]
  },
  {
   "cell_type": "markdown",
   "id": "00d90962-f2f3-4d1e-9315-d7c55e240a87",
   "metadata": {},
   "source": [
    "#### JSON Extract Function"
   ]
  },
  {
   "cell_type": "code",
   "execution_count": 11,
   "id": "3b926e65-ab3e-43a8-b9e1-52a207ca372f",
   "metadata": {},
   "outputs": [],
   "source": [
    "def extract_from_json(file_to_process):\n",
    "    dataframe = pd.read_json(file_to_process, lines=True)\n",
    "    return dataframe"
   ]
  },
  {
   "cell_type": "markdown",
   "id": "37354fbd-dff1-4635-8c6f-0e13ccf08012",
   "metadata": {},
   "source": [
    "#### XML Extract Function"
   ]
  },
  {
   "cell_type": "code",
   "execution_count": 15,
   "id": "e8d9f48f-42d8-40c5-a917-1da1b035e71c",
   "metadata": {},
   "outputs": [],
   "source": [
    "def extract_from_xml(file_to_process):\n",
    "    dataframe = pd.DataFrame(columns=[\"car_model\", \"year_of_manufacture\", \"price\", \"fuel\"])\n",
    "    tree = ET.parse(file_to_process)\n",
    "    root = tree.getroot()\n",
    "    for car in root:\n",
    "        car_model = car.find(\"car_model\").text\n",
    "        year_of_manufacture = int(car.find(\"year_of_manufacture\").text)\n",
    "        price = float(car.find(\"price\").text)\n",
    "        fuel = car.find(\"fuel\").text\n",
    "        dataframe = dataframe.append({\"car_model\":car_model, \"year_of_manufacture\":year_of_manufacture,\n",
    "                                     \"price\":price, \"fuel\":fuel}, ignore_index = True)\n",
    "        return dataframe\n",
    "        \n",
    "                                      "
   ]
  },
  {
   "cell_type": "markdown",
   "id": "abad5980-8839-4e4d-a0a7-eb88642e352b",
   "metadata": {},
   "source": [
    "### Extract Function"
   ]
  },
  {
   "cell_type": "code",
   "execution_count": 16,
   "id": "bcb3a23b-df16-4fa9-bc70-76e8331da257",
   "metadata": {},
   "outputs": [],
   "source": [
    "def extract():\n",
    "    # create an empty dataframe to hold extracted data\n",
    "    extracted_data = pd.DataFrame(columns = [\"car_model\", \"year_of_manufacture\", \"price\", \"fuel\"])\n",
    "    \n",
    "    # process all csv files\n",
    "    for csvfile in glob.glob(\"*.csv\"):\n",
    "        extracted_data = pd.concat([extracted_data, extract_from_csv(csvfile)], ignore_index = True)\n",
    "        \n",
    "    # process all json files\n",
    "    for jsonfile in glob.glob(\"*.json\"):\n",
    "        extracted_data = pd.concat([extracted_data, extract_from_json(jsonfile)], ignore_index = True)\n",
    "        \n",
    "    # process all xml files\n",
    "    for xmlfile in glob.glob(\"*.xml\"):\n",
    "        extracted_data = pd.concat([extracted_data, extract_from_xml(xmlfile)], ignore_index = True)\n",
    "    \n",
    "    return extracted_data "
   ]
  },
  {
   "cell_type": "markdown",
   "id": "5b560e37-e51d-4e13-b0fc-3d7bea4c683a",
   "metadata": {},
   "source": [
    "## Transform Process"
   ]
  },
  {
   "cell_type": "code",
   "execution_count": 18,
   "id": "b587574e-ea65-45d0-9e3f-f722ee24b62a",
   "metadata": {},
   "outputs": [],
   "source": [
    "# round the \"price\" column to 2 decimal places\n",
    "def transform(data):\n",
    "    data[\"price\"] = (data.price).astype(float).round(2)\n",
    "    return data"
   ]
  },
  {
   "cell_type": "markdown",
   "id": "8238f598-16c2-4ddf-abb1-3f5d03390f28",
   "metadata": {},
   "source": [
    "## Load Process"
   ]
  },
  {
   "cell_type": "code",
   "execution_count": 20,
   "id": "9892a2d5-2909-4dde-8067-505154bb7e82",
   "metadata": {},
   "outputs": [],
   "source": [
    "def load(targetfile, data_to_load):\n",
    "    data_to_load.to_csv(targetfile)"
   ]
  },
  {
   "cell_type": "markdown",
   "id": "3cdc70b6-acd4-4649-9680-5f34a62d848b",
   "metadata": {},
   "source": [
    "## Logging Process"
   ]
  },
  {
   "cell_type": "code",
   "execution_count": 21,
   "id": "d3ec5558-0cba-448d-89cc-9f33e68b3e57",
   "metadata": {},
   "outputs": [],
   "source": [
    "def log(message):\n",
    "    timestamp_format = \"%H:%M:%S-%h-%d-%Y\"\n",
    "    now = datetime.now()\n",
    "    timestamp = now.strftime(timestamp_format)\n",
    "    with open(logfile, \"a\") as f:\n",
    "        f.write(timestamp + ',' + message + '\\n')"
   ]
  },
  {
   "cell_type": "markdown",
   "id": "af98f706-991a-4dd9-9437-7e183c4ac72b",
   "metadata": {},
   "source": [
    "## Running ETL Process"
   ]
  },
  {
   "cell_type": "code",
   "execution_count": 22,
   "id": "bc4921a6-f987-45a2-bc6c-203d63e27862",
   "metadata": {},
   "outputs": [
    {
     "name": "stderr",
     "output_type": "stream",
     "text": [
      "C:\\Users\\DAYO\\AppData\\Local\\Temp\\ipykernel_11584\\3351039487.py:10: FutureWarning: The frame.append method is deprecated and will be removed from pandas in a future version. Use pandas.concat instead.\n",
      "  dataframe = dataframe.append({\"car_model\":car_model, \"year_of_manufacture\":year_of_manufacture,\n",
      "C:\\Users\\DAYO\\AppData\\Local\\Temp\\ipykernel_11584\\3351039487.py:10: FutureWarning: The frame.append method is deprecated and will be removed from pandas in a future version. Use pandas.concat instead.\n",
      "  dataframe = dataframe.append({\"car_model\":car_model, \"year_of_manufacture\":year_of_manufacture,\n",
      "C:\\Users\\DAYO\\AppData\\Local\\Temp\\ipykernel_11584\\3351039487.py:10: FutureWarning: The frame.append method is deprecated and will be removed from pandas in a future version. Use pandas.concat instead.\n",
      "  dataframe = dataframe.append({\"car_model\":car_model, \"year_of_manufacture\":year_of_manufacture,\n"
     ]
    }
   ],
   "source": [
    "# Log that you have started the ETL process\n",
    "log(\"ETL Job Started\")\n",
    "\n",
    "\n",
    "# Log that you have started the Extract step\n",
    "log(\"Extract phase Started\")\n",
    "# Call the Extract function\n",
    "extracted_data = extract()\n",
    "# Log that you have completed the Extract step\n",
    "log(\"Extract phase Ended\")\n",
    "\n",
    "\n",
    "# Log that you have started the Transform step\n",
    "log(\"Transform phase Started\")\n",
    "# Call the Transform function\n",
    "transformed_data = transform(extracted_data)\n",
    "# Log that you have completed the Transform step\n",
    "log(\"Transform phase Ended\")\n",
    "\n",
    "\n",
    "# Log that you have started the Load step\n",
    "log(\"Load Job Started\")\n",
    "# Call the Load function\n",
    "load(targetfile, transformed_data)\n",
    "# Log that you have completed the Load step\n",
    "log(\"Transform Job Started\")\n",
    "\n",
    "\n",
    "# Log that you have completed the ETL process\n",
    "log(\"ETL Job Ended\")\n"
   ]
  }
 ],
 "metadata": {
  "kernelspec": {
   "display_name": "Python 3 (ipykernel)",
   "language": "python",
   "name": "python3"
  },
  "language_info": {
   "codemirror_mode": {
    "name": "ipython",
    "version": 3
   },
   "file_extension": ".py",
   "mimetype": "text/x-python",
   "name": "python",
   "nbconvert_exporter": "python",
   "pygments_lexer": "ipython3",
   "version": "3.9.12"
  }
 },
 "nbformat": 4,
 "nbformat_minor": 5
}
